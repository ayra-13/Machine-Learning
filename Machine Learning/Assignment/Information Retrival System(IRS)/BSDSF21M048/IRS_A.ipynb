{
 "cells": [
  {
   "cell_type": "markdown",
   "metadata": {},
   "source": [
    "# Assignment 2 IRS"
   ]
  },
  {
   "cell_type": "markdown",
   "metadata": {},
   "source": [
    "Information retrieval is the process of obtaining information system resources that are relevant to an information need from a collection of those resources. The core purpose of this assignment is to give you the flavor of IRS. You need to follow some steps listed below and in the end, you'll be able to build your own small IRS. So, let's start."
   ]
  },
  {
   "cell_type": "code",
   "execution_count": 1,
   "metadata": {},
   "outputs": [],
   "source": [
    "# required imports\n",
    "import numpy as np\n",
    "import fnmatch\n",
    "import os\n"
   ]
  },
  {
   "cell_type": "markdown",
   "metadata": {},
   "source": [
    "Suppose we have 3 files containing data :"
   ]
  },
  {
   "cell_type": "markdown",
   "metadata": {},
   "source": [
    "### File Contents"
   ]
  },
  {
   "cell_type": "markdown",
   "metadata": {},
   "source": [
    "![\"This is my book\" - File 1](https://github.com/ahmad-14a/CS-F20-ML/blob/main/IRS-Assignment%201/f1.png?raw=true)\n",
    "![\"This is my pen\" - File 1](https://github.com/ahmad-14a/CS-F20-ML/blob/main/IRS-Assignment%201/f2.png?raw=true)\n",
    "![\"This is book is intersting\" - File 1](https://github.com/ahmad-14a/CS-F20-ML/blob/main/IRS-Assignment%201/f3.png?raw=true)"
   ]
  },
  {
   "cell_type": "markdown",
   "metadata": {},
   "source": [
    "# Step 1 Create Files with Dummy data"
   ]
  },
  {
   "cell_type": "markdown",
   "metadata": {},
   "source": [
    "You have to create few files with dummy data of your own choice as shown above."
   ]
  },
  {
   "cell_type": "markdown",
   "metadata": {},
   "source": [
    "# Step 2 Traverse Directories"
   ]
  },
  {
   "cell_type": "markdown",
   "metadata": {},
   "source": [
    " Now, You have to traverse the directories and store all the files into a dict type variable(files_dict). "
   ]
  },
  {
   "cell_type": "code",
   "execution_count": 19,
   "metadata": {},
   "outputs": [
    {
     "name": "stdout",
     "output_type": "stream",
     "text": [
      "Dictionary Containing file:  {'f1.txt': 7, 'f2.txt': 5, 'f3.txt': 6}\n",
      "Total File Count:  9\n"
     ]
    }
   ],
   "source": [
    "dir_path = r'C:\\Users\\World\\Desktop\\Machine Learning\\Assignment\\Asssignment 02\\myfile'\n",
    "for filename in os.listdir(dir_path):\n",
    "    full_path = os.path.join(dir_path,filename) #to get fullpath\n",
    "    if os.path.isfile(full_path): #check if each file in dir is a file\n",
    "        file_count +=1\n",
    "        with open(full_path,'r') as file:\n",
    "            first_line = file.readline()\n",
    "            words = first_line.split()\n",
    "            length = len(words)\n",
    "            files_dict[filename] = length\n",
    "print(\"Dictionary Containing file: \",files_dict)\n",
    "print(\"Total File Count: \",file_count)\n",
    "            "
   ]
  },
  {
   "cell_type": "code",
   "execution_count": 20,
   "metadata": {},
   "outputs": [],
   "source": [
    "# Here we have intialized some variables, you can add more if required.\n",
    "\n",
    "file_count = 3          # file_count to count number of files\n",
    "files_dict = {'f1.txt': 7, 'f2.txt': 5, 'f3.txt': 6}           # files_dic to store count of every file    \n",
    "unique_word_set = set()    # unique_word_set to store all the unique words in a set\n"
   ]
  },
  {
   "cell_type": "markdown",
   "metadata": {},
   "source": [
    "Displaying the count of files."
   ]
  },
  {
   "cell_type": "code",
   "execution_count": 21,
   "metadata": {},
   "outputs": [
    {
     "name": "stdout",
     "output_type": "stream",
     "text": [
      "\n",
      "Total Number  of files\n",
      " 3\n"
     ]
    }
   ],
   "source": [
    "print(\"\\nTotal Number  of files\\n\", file_count)"
   ]
  },
  {
   "cell_type": "markdown",
   "metadata": {},
   "source": [
    "Displaying Dictionary containing all files."
   ]
  },
  {
   "cell_type": "code",
   "execution_count": 22,
   "metadata": {},
   "outputs": [
    {
     "name": "stdout",
     "output_type": "stream",
     "text": [
      "\n",
      "Dictionary containing  files\n",
      " {'f1.txt': 7, 'f2.txt': 5, 'f3.txt': 6}\n"
     ]
    }
   ],
   "source": [
    "print(\"\\nDictionary containing  files\\n\", files_dict)"
   ]
  },
  {
   "cell_type": "markdown",
   "metadata": {},
   "source": [
    "# Step 3 Extract Unique Vocabulary"
   ]
  },
  {
   "cell_type": "markdown",
   "metadata": {},
   "source": [
    "write code to print all the unique words in every file and store them in a set"
   ]
  },
  {
   "cell_type": "code",
   "execution_count": 23,
   "metadata": {},
   "outputs": [
    {
     "name": "stdout",
     "output_type": "stream",
     "text": [
      "\n",
      "Unique words in every file: \n",
      "{'of', 'Exploring', 'Rainforest', 'the', 'Wonders'}\n",
      "Count of file:  3\n"
     ]
    }
   ],
   "source": [
    "#Your code starts here   \n",
    "\n",
    "print(\"\\nUnique words in every file: \")\n",
    "for filename in os.listdir(dir_path):\n",
    "    with open(full_path,'r') as file:\n",
    "        words = file.read().split()\n",
    "        unique_word_set.update(words)\n",
    "print(unique_word_set)\n",
    "print(\"Count of file: \",file_count)\n",
    "            \n",
    "#Your code ends here"
   ]
  },
  {
   "cell_type": "markdown",
   "metadata": {},
   "source": [
    "### Expected Output"
   ]
  },
  {
   "cell_type": "markdown",
   "metadata": {},
   "source": [
    "![\"Expected Output of unique words\" - File 1](https://github.com/ahmad-14a/CS-F20-ML/blob/main/IRS-Assignment%201/o1.png?raw=true)\n"
   ]
  },
  {
   "cell_type": "markdown",
   "metadata": {},
   "source": [
    "# Step 4 Create Term Document Matrix"
   ]
  },
  {
   "cell_type": "markdown",
   "metadata": {},
   "source": [
    "Create Term-Doc-matrix using Bag of word approach.and display its contents initially and finally."
   ]
  },
  {
   "cell_type": "markdown",
   "metadata": {},
   "source": [
    "- Create Term doc matrix such that colmns will be unique words and all the files will be rows\n",
    "- Write code to count all the unique words appearances in all the files and store it in a dictionary for words "
   ]
  },
  {
   "cell_type": "code",
   "execution_count": 24,
   "metadata": {},
   "outputs": [
    {
     "name": "stdout",
     "output_type": "stream",
     "text": [
      "Count of unique words:  5\n",
      "Dictionary of Unique words: \n",
      "{'of': 0, 'Exploring': 1, 'Rainforest': 2, 'the': 3, 'Wonders': 4}\n",
      "\n",
      "Dictionary of Files: \n",
      "{'f1.txt': 0, 'f2.txt': 1, 'f3.txt': 2}\n",
      "[[0 0 0 0 0]\n",
      " [0 0 0 0 0]\n",
      " [0 0 0 0 0]]\n"
     ]
    }
   ],
   "source": [
    "#Your code starts here    \n",
    "print(\"Count of unique words: \", len(unique_word_set))\n",
    "unique_words_dict = {word: index for index, word in enumerate(unique_word_set)}\n",
    "files_index_dict = {filename: index for index, filename in enumerate(files_dict.keys())}\n",
    "print(\"Dictionary of Unique words: \")\n",
    "print(unique_words_dict)\n",
    "\n",
    "print(\"\\nDictionary of Files: \")\n",
    "print(files_index_dict)\n",
    "term_doc_matrix = np.zeros((len(files_index_dict), len(unique_words_dict)),dtype=int)\n",
    "print(term_doc_matrix)\n",
    "\n",
    "        \n",
    "        \n",
    "\n",
    "\n",
    "#Your code ends here"
   ]
  },
  {
   "cell_type": "markdown",
   "metadata": {},
   "source": [
    "### Expected Output"
   ]
  },
  {
   "cell_type": "markdown",
   "metadata": {},
   "source": [
    "![\"Expected Output of unique words\" - File 1](https://github.com/ahmad-14a/CS-F20-ML/blob/main/IRS-Assignment%201/o2.png?raw=true)"
   ]
  },
  {
   "cell_type": "markdown",
   "metadata": {},
   "source": [
    "# Step 5 Fill Term Document Matrix"
   ]
  },
  {
   "cell_type": "markdown",
   "metadata": {},
   "source": [
    "- Fill the term doc matrix by checking if the unique word exists in a file or not\n",
    "- If it exists then substitute a 1 in term_doc_matrix (eg : TERM_DOC_MATRIX[file][word] = 1 ) \n",
    "- Do the same for all the files present in the directory"
   ]
  },
  {
   "cell_type": "code",
   "execution_count": 28,
   "metadata": {},
   "outputs": [
    {
     "name": "stdout",
     "output_type": "stream",
     "text": [
      "Term-Document Matrix:\n",
      "f1.txt\n",
      "f2.txt\n",
      "f3.txt\n"
     ]
    }
   ],
   "source": [
    "#Your code starts here    \n",
    "term_doc_matrix = {}\n",
    "for filename, path in files_dict.items():\n",
    "    term_doc_matrix[filename] = {}\n",
    "    with open(full_path,'r') as file:\n",
    "        words = set(file.read().split(','))\n",
    "        for word in unique_word_set:\n",
    "            if word in words:\n",
    "                term_doc_matrix[filename][word] = 1 \n",
    "print(\"Term-Document Matrix:\")\n",
    "for filename, word_counts in term_doc_matrix.items():\n",
    "    print(filename)\n",
    "    for word, count in word_counts.items():\n",
    "            print(f\"\\t{words}: {file_count}\")\n",
    "                \n",
    "\n",
    "\n",
    "\n",
    "#Your code ends here!!!!!!!!!!!!!!!!!!!!!!ASk!!!!!!!!!!!!!!"
   ]
  },
  {
   "cell_type": "markdown",
   "metadata": {},
   "source": [
    "### Expected Output"
   ]
  },
  {
   "cell_type": "markdown",
   "metadata": {},
   "source": [
    "![\"Expected Output of unique words\" - File 1](https://github.com/ahmad-14a/CS-F20-ML/blob/main/IRS-Assignment%201/o4.png?raw=true)\n"
   ]
  },
  {
   "cell_type": "markdown",
   "metadata": {},
   "source": [
    "# Step 6 Ask for a user Query"
   ]
  },
  {
   "cell_type": "markdown",
   "metadata": {},
   "source": [
    "For user query make a column vector of length of all the unique words present in a set"
   ]
  },
  {
   "cell_type": "code",
   "execution_count": 29,
   "metadata": {},
   "outputs": [
    {
     "name": "stdout",
     "output_type": "stream",
     "text": [
      "User query vector:  [1. 1. 1. 1. 1.]\n"
     ]
    }
   ],
   "source": [
    "#Your code starts here    \n",
    "user_query = {'of': 0, 'Exploring': 1, 'Rainforest': 2, 'the': 3, 'Wonders': 4}\n",
    "user_query_vector = np.zeros(len(unique_word_set))\n",
    "for i, word in enumerate(unique_word_set):\n",
    "    if word in user_query:\n",
    "        user_query_vector[i] = 1\n",
    "print(\"User query vector: \",user_query_vector)\n",
    "#Your code ends here"
   ]
  },
  {
   "cell_type": "markdown",
   "metadata": {},
   "source": [
    "### Expected Output"
   ]
  },
  {
   "cell_type": "markdown",
   "metadata": {},
   "source": [
    "![\"Expected Output of unique words\" - File 1](https://github.com/ahmad-14a/CS-F20-ML/blob/main/IRS-Assignment%201/o5.png?raw=true)\n"
   ]
  },
  {
   "cell_type": "code",
   "execution_count": 33,
   "metadata": {},
   "outputs": [],
   "source": [
    "query = input(\"The Amazing Tale of a Tiny Dog\")\n",
    "# Check every word of query if it exists in the set of unique words or not\n",
    "# If exists then increment the count of that word in word dictionary\n",
    "word_dict = {'of': 0, 'Rainforest': 1, 'the': 2, 'Wonders': 3, 'Exploring': 4}\n",
    "\n",
    "for word in query:\n",
    "    if word in unique_word_set:\n",
    "        if word in word_dict:\n",
    "            word_dict[word] += 1\n",
    "        else:\n",
    "            word_dict[word] =1\n",
    "\n"
   ]
  },
  {
   "cell_type": "markdown",
   "metadata": {},
   "source": [
    "### Expected Output"
   ]
  },
  {
   "cell_type": "markdown",
   "metadata": {},
   "source": [
    "![\"Expected Output of unique words\" - File 1](https://github.com/ahmad-14a/CS-F20-ML/blob/main/IRS-Assignment%201/o6.png?raw=true)\n"
   ]
  },
  {
   "cell_type": "markdown",
   "metadata": {},
   "source": [
    "# Step 7 Display Resultant Vector"
   ]
  },
  {
   "cell_type": "markdown",
   "metadata": {},
   "source": [
    "Display \n",
    "1. Resultant vector.\n",
    "2. Max value in resultant vector.\n",
    "3. Index of max value in resultant vector.\n"
   ]
  },
  {
   "cell_type": "code",
   "execution_count": 1,
   "metadata": {},
   "outputs": [
    {
     "ename": "NameError",
     "evalue": "name 'np' is not defined",
     "output_type": "error",
     "traceback": [
      "\u001b[1;31m---------------------------------------------------------------------------\u001b[0m",
      "\u001b[1;31mNameError\u001b[0m                                 Traceback (most recent call last)",
      "Cell \u001b[1;32mIn[1], line 2\u001b[0m\n\u001b[0;32m      1\u001b[0m \u001b[38;5;66;03m#Your code starts here  \u001b[39;00m\n\u001b[1;32m----> 2\u001b[0m prod \u001b[38;5;241m=\u001b[39m \u001b[43mnp\u001b[49m\u001b[38;5;241m.\u001b[39mdot(term_doc_matrix, resultant_vector)\n\u001b[0;32m      3\u001b[0m \u001b[38;5;28mprint\u001b[39m(prod)\n\u001b[0;32m      5\u001b[0m max_val \u001b[38;5;241m=\u001b[39m np\u001b[38;5;241m.\u001b[39mmax(prod)\n",
      "\u001b[1;31mNameError\u001b[0m: name 'np' is not defined"
     ]
    }
   ],
   "source": [
    "#Your code starts here  \n",
    "prod = np.dot(term_doc_matrix, resultant_vector)\n",
    "print(prod)\n",
    "\n",
    "max_val = np.max(prod)\n",
    "max_index = np.argmax(prod)\n",
    "\n",
    "print(\"Max Value: \",max_val)\n",
    "print(\"Max Index: \", max_index)\n",
    "\n",
    "#Your code ends here"
   ]
  },
  {
   "cell_type": "markdown",
   "metadata": {},
   "source": [
    "### Expected Output"
   ]
  },
  {
   "cell_type": "markdown",
   "metadata": {},
   "source": [
    "![\"Expected Output of unique words\" - File 1](https://github.com/ahmad-14a/CS-F20-ML/blob/main/IRS-Assignment%201/o7.png?raw=true)\n"
   ]
  },
  {
   "cell_type": "markdown",
   "metadata": {},
   "source": [
    "# Step 8 Display the contents of file\n"
   ]
  },
  {
   "cell_type": "markdown",
   "metadata": {},
   "source": [
    "Write the code to identify the file_name having maximum value in the resultant vector and display its contents."
   ]
  },
  {
   "cell_type": "code",
   "execution_count": null,
   "metadata": {},
   "outputs": [],
   "source": [
    "#Your code starts here    \n",
    "\n",
    "max_file_index = np.argmax(resultant_vector)\n",
    "max_filename = list(files_dict.keys())[max_file_index]\n",
    "print(\"Filename with max value in resultant vector: \", max_filename)\n",
    "max_file_path = files_dict[max_filename]\n",
    "\n",
    "with open(full_path, 'r') as file:\n",
    "    file_contents = file.read()\n",
    "    print(\"contents of file: \")\n",
    "    print(file_contents)\n",
    "\n",
    "\n",
    "#Your code ends here"
   ]
  },
  {
   "cell_type": "markdown",
   "metadata": {},
   "source": [
    "Congratulations Now you are able to build your own small IRS."
   ]
  }
 ],
 "metadata": {
  "kernelspec": {
   "display_name": "Python 3 (ipykernel)",
   "language": "python",
   "name": "python3"
  },
  "language_info": {
   "codemirror_mode": {
    "name": "ipython",
    "version": 3
   },
   "file_extension": ".py",
   "mimetype": "text/x-python",
   "name": "python",
   "nbconvert_exporter": "python",
   "pygments_lexer": "ipython3",
   "version": "3.11.8"
  }
 },
 "nbformat": 4,
 "nbformat_minor": 4
}
