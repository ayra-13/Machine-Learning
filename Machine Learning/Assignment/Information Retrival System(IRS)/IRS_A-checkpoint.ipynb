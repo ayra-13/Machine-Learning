{
 "cells": [
  {
   "cell_type": "markdown",
   "metadata": {},
   "source": [
    "# Assignment 2 IRS"
   ]
  },
  {
   "cell_type": "markdown",
   "metadata": {},
   "source": [
    "Information retrieval is the process of obtaining information system resources that are relevant to an information need from a collection of those resources. The core purpose of this assignment is to give you the flavor of IRS. You need to follow some steps listed below and in the end, you'll be able to build your own small IRS. So, let's start."
   ]
  },
  {
   "cell_type": "code",
   "execution_count": 1,
   "metadata": {},
   "outputs": [],
   "source": [
    "# required imports\n",
    "import numpy as np\n",
    "import fnmatch\n",
    "import os\n"
   ]
  },
  {
   "cell_type": "markdown",
   "metadata": {},
   "source": [
    "Suppose we have 3 files containing data :"
   ]
  },
  {
   "cell_type": "markdown",
   "metadata": {},
   "source": [
    "### File Contents"
   ]
  },
  {
   "cell_type": "markdown",
   "metadata": {},
   "source": [
    "![\"This is my book\" - File 1](https://github.com/ahmad-14a/CS-F20-ML/blob/main/IRS-Assignment%201/f1.png?raw=true)\n",
    "![\"This is my pen\" - File 1](https://github.com/ahmad-14a/CS-F20-ML/blob/main/IRS-Assignment%201/f2.png?raw=true)\n",
    "![\"This is book is intersting\" - File 1](https://github.com/ahmad-14a/CS-F20-ML/blob/main/IRS-Assignment%201/f3.png?raw=true)"
   ]
  },
  {
   "cell_type": "markdown",
   "metadata": {},
   "source": [
    "# Step 1 Create Files with Dummy data"
   ]
  },
  {
   "cell_type": "markdown",
   "metadata": {},
   "source": [
    "You have to create few files with dummy data of your own choice as shown above."
   ]
  },
  {
   "cell_type": "markdown",
   "metadata": {},
   "source": [
    "# Step 2 Traverse Directories"
   ]
  },
  {
   "cell_type": "markdown",
   "metadata": {},
   "source": [
    " Now, You have to traverse the directories and store all the files into a dict type variable(files_dict). "
   ]
  },
  {
   "cell_type": "code",
   "execution_count": 2,
   "metadata": {},
   "outputs": [],
   "source": [
    "# Here we have intialized some variables, you can add more if required.\n",
    "\n",
    "file_count = 0             # file_count to count number of files\n",
    "files_dict = {}            # files_dic to store count of every file    \n",
    "unique_word_set = set()    # unique_word_set to store all the unique words in a set\n"
   ]
  },
  {
   "cell_type": "code",
   "execution_count": 3,
   "metadata": {},
   "outputs": [
    {
     "name": "stdout",
     "output_type": "stream",
     "text": [
      "Dictionary Containing file:  {'f1.txt': 4, 'f2.txt': 4, 'f3.txt': 4, 'synonyms.txt': 2}\n",
      "Total File Count:  4\n"
     ]
    }
   ],
   "source": [
    "dir_path = r'C:\\Users\\fatim\\Downloads\\IRS'\n",
    "for filename in os.listdir(dir_path):\n",
    "    full_path = os.path.join(dir_path,filename) #to get fullpath\n",
    "    if os.path.isfile(full_path): #check if each file in dir is a file\n",
    "        file_count +=1\n",
    "        with open(full_path,'r') as file:\n",
    "            first_line = file.readline()\n",
    "            words = first_line.split()\n",
    "            length = len(words)\n",
    "            files_dict[filename] = length\n",
    "print(\"Dictionary Containing file: \",files_dict)\n",
    "print(\"Total File Count: \",file_count)\n",
    "            "
   ]
  },
  {
   "cell_type": "markdown",
   "metadata": {},
   "source": [
    "Displaying the count of files."
   ]
  },
  {
   "cell_type": "code",
   "execution_count": 4,
   "metadata": {},
   "outputs": [
    {
     "name": "stdout",
     "output_type": "stream",
     "text": [
      "\n",
      "Total Number  of files\n",
      " 4\n"
     ]
    }
   ],
   "source": [
    "print(\"\\nTotal Number  of files\\n\", file_count)"
   ]
  },
  {
   "cell_type": "markdown",
   "metadata": {},
   "source": [
    "Displaying Dictionary containing all files."
   ]
  },
  {
   "cell_type": "code",
   "execution_count": 5,
   "metadata": {},
   "outputs": [
    {
     "name": "stdout",
     "output_type": "stream",
     "text": [
      "\n",
      "Dictionary containing  files\n",
      " {'f1.txt': 4, 'f2.txt': 4, 'f3.txt': 4, 'synonyms.txt': 2}\n"
     ]
    }
   ],
   "source": [
    "print(\"\\nDictionary containing  files\\n\", files_dict)"
   ]
  },
  {
   "cell_type": "markdown",
   "metadata": {},
   "source": [
    "# Step 3 Extract Unique Vocabulary"
   ]
  },
  {
   "cell_type": "markdown",
   "metadata": {},
   "source": [
    "write code to print all the unique words in every file and store them in a set"
   ]
  },
  {
   "cell_type": "code",
   "execution_count": 6,
   "metadata": {},
   "outputs": [
    {
     "name": "stdout",
     "output_type": "stream",
     "text": [
      "\n",
      "Unique words in every file: \n",
      "{'forgotten,', 'missing,', 'obtain,', 'engaging,', 'platform', 'application,', 'for,', 'bring', 'publication,', 'query:', 'synonym:', 'substitute,', 'ink,', 'intriguing,', 'volume,', 'pen:', 'at', 'search,', 'framework,', 'document,record,dossier,report', 'alternate,', 'file:', 'novel,', 'processor,', 'look', 'paper:', 'app,', 'machine,', 'explore,', 'replacement', 'document,', 'retrieve:', 'computer:', 'read:', 'laptop', 'scan,', 'recover,', 'write,', 'peruse,', 'system:', 'question,', 'misplaced,', 'tome', 'seek,', 'organization,', 'mislaid', 'structure,', 'search:', 'illustration,instance,sample,demonstration', 'lost:', 'form,', 'sheet,', 'interesting:', 'device,', 'software:', 'program,', 'example:', 'compose,draft,author,create', 'back', 'examine', 'book:', 'fascinating,', 'study,', 'write:', 'inquiry,', 'letter', 'request', 'fountain', 'fetch,', 'absorbing', 'arrangement', 'ballpoint,', 'equivalent,'}\n",
      "Count of file:  4\n"
     ]
    }
   ],
   "source": [
    "#Your code starts here   \n",
    "\n",
    "print(\"\\nUnique words in every file: \")\n",
    "for filename in os.listdir(dir_path):\n",
    "    with open(full_path,'r') as file:\n",
    "        words = file.read().split()\n",
    "        unique_word_set.update(words)\n",
    "print(unique_word_set)\n",
    "print(\"Count of file: \",file_count)\n",
    "            \n",
    "#Your code ends here"
   ]
  },
  {
   "cell_type": "markdown",
   "metadata": {},
   "source": [
    "### Expected Output"
   ]
  },
  {
   "cell_type": "markdown",
   "metadata": {},
   "source": [
    "![\"Expected Output of unique words\" - File 1](https://github.com/ahmad-14a/CS-F20-ML/blob/main/IRS-Assignment%201/o1.png?raw=true)\n"
   ]
  },
  {
   "cell_type": "markdown",
   "metadata": {},
   "source": [
    "# Step 4 Create Term Document Matrix"
   ]
  },
  {
   "cell_type": "markdown",
   "metadata": {},
   "source": [
    "Create Term-Doc-matrix using Bag of word approach.and display its contents initially and finally."
   ]
  },
  {
   "cell_type": "markdown",
   "metadata": {},
   "source": [
    "- Create Term doc matrix such that colmns will be unique words and all the files will be rows\n",
    "- Write code to count all the unique words appearances in all the files and store it in a dictionary for words "
   ]
  },
  {
   "cell_type": "code",
   "execution_count": 7,
   "metadata": {},
   "outputs": [
    {
     "name": "stdout",
     "output_type": "stream",
     "text": [
      "Count of unique words:  73\n",
      "Dictionary of Unique words: \n",
      "{'forgotten,': 0, 'missing,': 1, 'obtain,': 2, 'engaging,': 3, 'platform': 4, 'application,': 5, 'for,': 6, 'bring': 7, 'publication,': 8, 'query:': 9, 'synonym:': 10, 'substitute,': 11, 'ink,': 12, 'intriguing,': 13, 'volume,': 14, 'pen:': 15, 'at': 16, 'search,': 17, 'framework,': 18, 'document,record,dossier,report': 19, 'alternate,': 20, 'file:': 21, 'novel,': 22, 'processor,': 23, 'look': 24, 'paper:': 25, 'app,': 26, 'machine,': 27, 'explore,': 28, 'replacement': 29, 'document,': 30, 'retrieve:': 31, 'computer:': 32, 'read:': 33, 'laptop': 34, 'scan,': 35, 'recover,': 36, 'write,': 37, 'peruse,': 38, 'system:': 39, 'question,': 40, 'misplaced,': 41, 'tome': 42, 'seek,': 43, 'organization,': 44, 'mislaid': 45, 'structure,': 46, 'search:': 47, 'illustration,instance,sample,demonstration': 48, 'lost:': 49, 'form,': 50, 'sheet,': 51, 'interesting:': 52, 'device,': 53, 'software:': 54, 'program,': 55, 'example:': 56, 'compose,draft,author,create': 57, 'back': 58, 'examine': 59, 'book:': 60, 'fascinating,': 61, 'study,': 62, 'write:': 63, 'inquiry,': 64, 'letter': 65, 'request': 66, 'fountain': 67, 'fetch,': 68, 'absorbing': 69, 'arrangement': 70, 'ballpoint,': 71, 'equivalent,': 72}\n",
      "\n",
      "Dictionary of Files: \n",
      "{'f1.txt': 0, 'f2.txt': 1, 'f3.txt': 2, 'synonyms.txt': 3}\n",
      "[[0 0 0 0 0 0 0 0 0 0 0 0 0 0 0 0 0 0 0 0 0 0 0 0 0 0 0 0 0 0 0 0 0 0 0 0\n",
      "  0 0 0 0 0 0 0 0 0 0 0 0 0 0 0 0 0 0 0 0 0 0 0 0 0 0 0 0 0 0 0 0 0 0 0 0\n",
      "  0]\n",
      " [0 0 0 0 0 0 0 0 0 0 0 0 0 0 0 0 0 0 0 0 0 0 0 0 0 0 0 0 0 0 0 0 0 0 0 0\n",
      "  0 0 0 0 0 0 0 0 0 0 0 0 0 0 0 0 0 0 0 0 0 0 0 0 0 0 0 0 0 0 0 0 0 0 0 0\n",
      "  0]\n",
      " [0 0 0 0 0 0 0 0 0 0 0 0 0 0 0 0 0 0 0 0 0 0 0 0 0 0 0 0 0 0 0 0 0 0 0 0\n",
      "  0 0 0 0 0 0 0 0 0 0 0 0 0 0 0 0 0 0 0 0 0 0 0 0 0 0 0 0 0 0 0 0 0 0 0 0\n",
      "  0]\n",
      " [0 0 0 0 0 0 0 0 0 0 0 0 0 0 0 0 0 0 0 0 0 0 0 0 0 0 0 0 0 0 0 0 0 0 0 0\n",
      "  0 0 0 0 0 0 0 0 0 0 0 0 0 0 0 0 0 0 0 0 0 0 0 0 0 0 0 0 0 0 0 0 0 0 0 0\n",
      "  0]]\n"
     ]
    }
   ],
   "source": [
    "#Your code starts here    \n",
    "print(\"Count of unique words: \", len(unique_word_set))\n",
    "unique_words_dict = {word: index for index, word in enumerate(unique_word_set)}\n",
    "files_index_dict = {filename: index for index, filename in enumerate(files_dict.keys())}\n",
    "print(\"Dictionary of Unique words: \")\n",
    "print(unique_words_dict)\n",
    "\n",
    "print(\"\\nDictionary of Files: \")\n",
    "print(files_index_dict)\n",
    "term_doc_matrix = np.zeros((len(files_index_dict), len(unique_words_dict)),dtype=int)\n",
    "print(term_doc_matrix)\n",
    "\n",
    "        \n",
    "        \n",
    "\n",
    "\n",
    "#Your code ends here"
   ]
  },
  {
   "cell_type": "markdown",
   "metadata": {},
   "source": [
    "### Expected Output"
   ]
  },
  {
   "cell_type": "markdown",
   "metadata": {},
   "source": [
    "![\"Expected Output of unique words\" - File 1](https://github.com/ahmad-14a/CS-F20-ML/blob/main/IRS-Assignment%201/o2.png?raw=true)"
   ]
  },
  {
   "cell_type": "markdown",
   "metadata": {},
   "source": [
    "# Step 5 Fill Term Document Matrix"
   ]
  },
  {
   "cell_type": "markdown",
   "metadata": {},
   "source": [
    "- Fill the term doc matrix by checking if the unique word exists in a file or not\n",
    "- If it exists then substitute a 1 in term_doc_matrix (eg : TERM_DOC_MATRIX[file][word] = 1 ) \n",
    "- Do the same for all the files present in the directory"
   ]
  },
  {
   "cell_type": "code",
   "execution_count": 8,
   "metadata": {},
   "outputs": [
    {
     "name": "stdout",
     "output_type": "stream",
     "text": [
      "Term-Document Matrix:\n",
      "f1.txt\n",
      "f2.txt\n",
      "f3.txt\n",
      "synonyms.txt\n"
     ]
    }
   ],
   "source": [
    "#Your code starts here    \n",
    "term_doc_matrix = {}\n",
    "for filename, path in files_dict.items():\n",
    "    term_doc_matrix[filename] = {}\n",
    "    with open(full_path,'r') as file:\n",
    "        words = set(file.read().split(','))\n",
    "        for word in unique_word_set:\n",
    "            if word in words:\n",
    "                term_doc_matrix[filename][word] = 1 \n",
    "print(\"Term-Document Matrix:\")\n",
    "for filename, word_counts in term_doc_matrix.items():\n",
    "    print(filename)\n",
    "    for word, count in word_counts.items():\n",
    "            print(f\"\\t{words}: {file_count}\")\n",
    "                \n",
    "\n",
    "\n",
    "\n",
    "#Your code ends here"
   ]
  },
  {
   "cell_type": "markdown",
   "metadata": {},
   "source": [
    "### Expected Output"
   ]
  },
  {
   "cell_type": "markdown",
   "metadata": {},
   "source": [
    "![\"Expected Output of unique words\" - File 1](https://github.com/ahmad-14a/CS-F20-ML/blob/main/IRS-Assignment%201/o4.png?raw=true)\n"
   ]
  },
  {
   "cell_type": "markdown",
   "metadata": {},
   "source": [
    "# Step 6 Ask for a user Query"
   ]
  },
  {
   "cell_type": "markdown",
   "metadata": {},
   "source": [
    "For user query make a column vector of length of all the unique words present in a set"
   ]
  },
  {
   "cell_type": "code",
   "execution_count": 9,
   "metadata": {},
   "outputs": [
    {
     "name": "stdout",
     "output_type": "stream",
     "text": [
      "User query vector:  [0. 0. 0. 0. 0. 0. 0. 0. 0. 0. 0. 0. 0. 0. 0. 0. 0. 0. 0. 0. 0. 0. 0. 0.\n",
      " 0. 0. 0. 0. 0. 0. 0. 0. 0. 0. 0. 0. 0. 0. 0. 0. 0. 0. 0. 0. 0. 0. 0. 0.\n",
      " 0. 0. 0. 0. 0. 0. 0. 0. 0. 0. 0. 0. 0. 0. 0. 0. 0. 1. 0. 0. 0. 0. 0. 0.\n",
      " 0.]\n"
     ]
    }
   ],
   "source": [
    "#Your code starts here    \n",
    "user_query = {'fascinating','letter','alternate'}\n",
    "user_query_vector = np.zeros(len(unique_word_set))\n",
    "for i, word in enumerate(unique_word_set):\n",
    "    if word in user_query:\n",
    "        user_query_vector[i] = 1\n",
    "print(\"User query vector: \",user_query_vector)\n",
    "#Your code ends here"
   ]
  },
  {
   "cell_type": "markdown",
   "metadata": {},
   "source": [
    "### Expected Output"
   ]
  },
  {
   "cell_type": "markdown",
   "metadata": {},
   "source": [
    "![\"Expected Output of unique words\" - File 1](https://github.com/ahmad-14a/CS-F20-ML/blob/main/IRS-Assignment%201/o5.png?raw=true)\n"
   ]
  },
  {
   "cell_type": "code",
   "execution_count": null,
   "metadata": {},
   "outputs": [],
   "source": [
    "query = input(\"\\nWrite something for searching  \")\n",
    "# Check every word of query if it exists in the set of unique words or not\n",
    "# If exists then increment the count of that word in word dictionary\n",
    "word_dict = {}\n",
    "for word in query:\n",
    "    if word in unique_word_set:\n",
    "        if word in word_dict:\n",
    "            word_dict[word] += 1\n",
    "        else:\n",
    "            word_dict[word] =1\n"
   ]
  },
  {
   "cell_type": "code",
   "execution_count": null,
   "metadata": {},
   "outputs": [],
   "source": [
    "#Your code starts here    \n",
    "\n",
    "#Your code ends here"
   ]
  },
  {
   "cell_type": "markdown",
   "metadata": {},
   "source": [
    "### Expected Output"
   ]
  },
  {
   "cell_type": "markdown",
   "metadata": {},
   "source": [
    "![\"Expected Output of unique words\" - File 1](https://github.com/ahmad-14a/CS-F20-ML/blob/main/IRS-Assignment%201/o6.png?raw=true)\n"
   ]
  },
  {
   "cell_type": "markdown",
   "metadata": {},
   "source": [
    "# Step 7 Display Resultant Vector"
   ]
  },
  {
   "cell_type": "markdown",
   "metadata": {},
   "source": [
    "Display \n",
    "1. Resultant vector.\n",
    "2. Max value in resultant vector.\n",
    "3. Index of max value in resultant vector.\n"
   ]
  },
  {
   "cell_type": "code",
   "execution_count": null,
   "metadata": {},
   "outputs": [],
   "source": [
    "#Your code starts here  \n",
    "prod = np.dot(term_doc_matrix, resultant_vector)\n",
    "print(prod)\n",
    "\n",
    "max_val = np.max(prod)\n",
    "max_index = np.argmax(prod)\n",
    "\n",
    "print(\"Max Value: \",max_val)\n",
    "print(\"Max Index: \", max_index)\n",
    "\n",
    "#Your code ends here"
   ]
  },
  {
   "cell_type": "markdown",
   "metadata": {},
   "source": [
    "### Expected Output"
   ]
  },
  {
   "cell_type": "markdown",
   "metadata": {},
   "source": [
    "![\"Expected Output of unique words\" - File 1](https://github.com/ahmad-14a/CS-F20-ML/blob/main/IRS-Assignment%201/o7.png?raw=true)\n"
   ]
  },
  {
   "cell_type": "markdown",
   "metadata": {},
   "source": [
    "# Step 8 Display the contents of file\n"
   ]
  },
  {
   "cell_type": "markdown",
   "metadata": {},
   "source": [
    "Write the code to identify the file_name having maximum value in the resultant vector and display its contents."
   ]
  },
  {
   "cell_type": "code",
   "execution_count": null,
   "metadata": {},
   "outputs": [],
   "source": [
    "#Your code starts here    \n",
    "\n",
    "max_file_index = np.argmax(resultant_vector)\n",
    "max_filename = list(files_dict.keys())[max_file_index]\n",
    "print(\"Filename with max value in resultant vector: \", max_filename)\n",
    "max_file_path = files_dict[max_filename]\n",
    "\n",
    "with open(full_path, 'r') as file:\n",
    "    file_contents = file.read()\n",
    "    print(\"contents of file: \")\n",
    "    print(file_contents)\n",
    "\n",
    "\n",
    "#Your code ends here"
   ]
  },
  {
   "cell_type": "markdown",
   "metadata": {},
   "source": [
    "Congratulations Now you are able to build your own small IRS."
   ]
  }
 ],
 "metadata": {
  "kernelspec": {
   "display_name": "Python 3 (ipykernel)",
   "language": "python",
   "name": "python3"
  },
  "language_info": {
   "codemirror_mode": {
    "name": "ipython",
    "version": 3
   },
   "file_extension": ".py",
   "mimetype": "text/x-python",
   "name": "python",
   "nbconvert_exporter": "python",
   "pygments_lexer": "ipython3",
   "version": "3.11.5"
  }
 },
 "nbformat": 4,
 "nbformat_minor": 4
}
